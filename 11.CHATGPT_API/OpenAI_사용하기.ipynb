{
  "nbformat": 4,
  "nbformat_minor": 0,
  "metadata": {
    "colab": {
      "provenance": []
    },
    "kernelspec": {
      "name": "python3",
      "display_name": "Python 3"
    },
    "language_info": {
      "name": "python"
    }
  },
  "cells": [
    {
      "cell_type": "markdown",
      "source": [
        "# 11.2.1.셋팅하기"
      ],
      "metadata": {
        "id": "fwkBFIpUtlpr"
      }
    },
    {
      "cell_type": "code",
      "source": [
        "!pip install openai"
      ],
      "metadata": {
        "colab": {
          "base_uri": "https://localhost:8080/"
        },
        "id": "1d_S1-cYl8oI",
        "outputId": "aa23933f-4f9b-4e90-8cba-b5ab9919a449"
      },
      "execution_count": null,
      "outputs": [
        {
          "output_type": "stream",
          "name": "stdout",
          "text": [
            "Looking in indexes: https://pypi.org/simple, https://us-python.pkg.dev/colab-wheels/public/simple/\n",
            "Collecting openai\n",
            "  Downloading openai-0.27.0-py3-none-any.whl (70 kB)\n",
            "\u001b[2K     \u001b[90m━━━━━━━━━━━━━━━━━━━━━━━━━━━━━━━━━━━━━━━━\u001b[0m \u001b[32m70.1/70.1 KB\u001b[0m \u001b[31m1.0 MB/s\u001b[0m eta \u001b[36m0:00:00\u001b[0m\n",
            "\u001b[?25hRequirement already satisfied: tqdm in /usr/local/lib/python3.8/dist-packages (from openai) (4.64.1)\n",
            "Requirement already satisfied: aiohttp in /usr/local/lib/python3.8/dist-packages (from openai) (3.8.4)\n",
            "Requirement already satisfied: requests>=2.20 in /usr/local/lib/python3.8/dist-packages (from openai) (2.25.1)\n",
            "Requirement already satisfied: certifi>=2017.4.17 in /usr/local/lib/python3.8/dist-packages (from requests>=2.20->openai) (2022.12.7)\n",
            "Requirement already satisfied: idna<3,>=2.5 in /usr/local/lib/python3.8/dist-packages (from requests>=2.20->openai) (2.10)\n",
            "Requirement already satisfied: chardet<5,>=3.0.2 in /usr/local/lib/python3.8/dist-packages (from requests>=2.20->openai) (4.0.0)\n",
            "Requirement already satisfied: urllib3<1.27,>=1.21.1 in /usr/local/lib/python3.8/dist-packages (from requests>=2.20->openai) (1.26.14)\n",
            "Requirement already satisfied: frozenlist>=1.1.1 in /usr/local/lib/python3.8/dist-packages (from aiohttp->openai) (1.3.3)\n",
            "Requirement already satisfied: yarl<2.0,>=1.0 in /usr/local/lib/python3.8/dist-packages (from aiohttp->openai) (1.8.2)\n",
            "Requirement already satisfied: aiosignal>=1.1.2 in /usr/local/lib/python3.8/dist-packages (from aiohttp->openai) (1.3.1)\n",
            "Requirement already satisfied: async-timeout<5.0,>=4.0.0a3 in /usr/local/lib/python3.8/dist-packages (from aiohttp->openai) (4.0.2)\n",
            "Requirement already satisfied: attrs>=17.3.0 in /usr/local/lib/python3.8/dist-packages (from aiohttp->openai) (22.2.0)\n",
            "Requirement already satisfied: charset-normalizer<4.0,>=2.0 in /usr/local/lib/python3.8/dist-packages (from aiohttp->openai) (3.0.1)\n",
            "Requirement already satisfied: multidict<7.0,>=4.5 in /usr/local/lib/python3.8/dist-packages (from aiohttp->openai) (6.0.4)\n",
            "Installing collected packages: openai\n",
            "Successfully installed openai-0.27.0\n"
          ]
        }
      ]
    },
    {
      "cell_type": "code",
      "source": [
        "import openai"
      ],
      "metadata": {
        "id": "kRmQ-79CoFqw"
      },
      "execution_count": null,
      "outputs": []
    },
    {
      "cell_type": "code",
      "source": [
        "openai.api_key = \"key 값\""
      ],
      "metadata": {
        "id": "D8-6-LEJnYWL"
      },
      "execution_count": null,
      "outputs": []
    },
    {
      "cell_type": "markdown",
      "source": [
        "# 11.2.2. 답변 얻기"
      ],
      "metadata": {
        "id": "O94YowemtkEu"
      }
    },
    {
      "cell_type": "markdown",
      "source": [
        "```\n",
        "response = openai.ChatCompletion.create(\n",
        "  model=\"gpt-3.5-turbo\",\n",
        "  messages=[\n",
        "        {\"role\": \"user\", \"content\": \"<작성하고 싶은 Prompt>\"}\n",
        "    ]\n",
        ")\n",
        "```"
      ],
      "metadata": {
        "id": "4oLPH8yRuvpk"
      }
    },
    {
      "cell_type": "code",
      "source": [
        "response = openai.ChatCompletion.create(\n",
        "  model=\"gpt-3.5-turbo\",\n",
        "  messages=[\n",
        "        {\"role\": \"user\", \"content\": \"2020년 월드시리즈에서는 누가 우승했어?\"}\n",
        "    ]\n",
        ")"
      ],
      "metadata": {
        "id": "63axo4i-rFb5"
      },
      "execution_count": null,
      "outputs": []
    },
    {
      "cell_type": "code",
      "source": [
        "print(response['choices'][0]['message']['content'])"
      ],
      "metadata": {
        "colab": {
          "base_uri": "https://localhost:8080/"
        },
        "id": "63hZjSXHrLkp",
        "outputId": "fe0be370-fc12-4b5d-bd26-d45b63490523"
      },
      "execution_count": null,
      "outputs": [
        {
          "output_type": "stream",
          "name": "stdout",
          "text": [
            "\n",
            "\n",
            "2020년 월드시리즈에서는 로스앤젤레스 더지스(Los Angeles Dodgers)가 우승했습니다.\n"
          ]
        }
      ]
    },
    {
      "cell_type": "markdown",
      "source": [
        "# 11.2.3. 역할 부여해주기"
      ],
      "metadata": {
        "id": "kw7JiHbTtooI"
      }
    },
    {
      "cell_type": "code",
      "source": [
        "response = openai.ChatCompletion.create(\n",
        "  model=\"gpt-3.5-turbo\",\n",
        "  messages=[\n",
        "      {\"role\": \"system\", \"content\": \"너는 친절하게 답변해주는 비서야\"},\n",
        "        {\"role\": \"user\", \"content\": \"2020년 월드시리즈에서는 누가 우승했어?\"}\n",
        "    ]\n",
        ")"
      ],
      "metadata": {
        "id": "CZ8TM-ewqoD5"
      },
      "execution_count": null,
      "outputs": []
    },
    {
      "cell_type": "code",
      "source": [
        "print(response['choices'][0]['message']['content'])"
      ],
      "metadata": {
        "colab": {
          "base_uri": "https://localhost:8080/"
        },
        "id": "DSJ4vmj4qxTV",
        "outputId": "dffc3847-b8e4-41e4-dc05-0209e9b53429"
      },
      "execution_count": null,
      "outputs": [
        {
          "output_type": "stream",
          "name": "stdout",
          "text": [
            "2020년 월드시리즈에서는 로스앤젤레스 더지스(Los Angeles Dodgers)가 탬파베이 레이스(Tampa Bay Rays)를 꺾고 우승했습니다.\n"
          ]
        }
      ]
    },
    {
      "cell_type": "code",
      "source": [
        "response = openai.ChatCompletion.create(\n",
        "  model=\"gpt-3.5-turbo\",\n",
        "  messages=[\n",
        "      {\"role\": \"system\", \"content\": \"You are a chatbot that answers questions in English even in Korean.\"},\n",
        "        {\"role\": \"user\", \"content\": \"2020년 월드시리즈에서는 누가 우승했어?\"}\n",
        "    ]\n",
        ")"
      ],
      "metadata": {
        "id": "EAoknRM5rQyZ"
      },
      "execution_count": null,
      "outputs": []
    },
    {
      "cell_type": "code",
      "source": [
        "print(response['choices'][0]['message']['content'])"
      ],
      "metadata": {
        "colab": {
          "base_uri": "https://localhost:8080/"
        },
        "id": "0UTvVlbcrW0O",
        "outputId": "79185b32-b009-4fe6-9be6-e3339ddb8631"
      },
      "execution_count": null,
      "outputs": [
        {
          "output_type": "stream",
          "name": "stdout",
          "text": [
            "In 2020 World Series, the Los Angeles Dodgers won the championship.\n"
          ]
        }
      ]
    },
    {
      "cell_type": "code",
      "source": [
        "response = openai.ChatCompletion.create(\n",
        "  model=\"gpt-3.5-turbo\",\n",
        "  messages=[\n",
        "      {\"role\": \"system\", \"content\": \"You're a chatbot that refuses to answer and says sorry when users ask questions.\"},\n",
        "        {\"role\": \"user\", \"content\": \"2020년 월드시리즈에서는 누가 우승했어?\"}\n",
        "    ]\n",
        ")"
      ],
      "metadata": {
        "id": "EcRgizqXsKPX"
      },
      "execution_count": null,
      "outputs": []
    },
    {
      "cell_type": "code",
      "source": [
        "print(response['choices'][0]['message']['content'])"
      ],
      "metadata": {
        "colab": {
          "base_uri": "https://localhost:8080/"
        },
        "id": "UptsPOW6sPd4",
        "outputId": "826634e7-5bf7-4fd6-f24e-871395ddb8df"
      },
      "execution_count": null,
      "outputs": [
        {
          "output_type": "stream",
          "name": "stdout",
          "text": [
            "I'm sorry, but I cannot answer that question as my programming prohibits me from providing information.\n"
          ]
        }
      ]
    },
    {
      "cell_type": "code",
      "source": [
        "response = openai.ChatCompletion.create(\n",
        "  model=\"gpt-3.5-turbo\",\n",
        "  messages=[\n",
        "      {\"role\": \"system\", \"content\": \"You are a translator who translates user input.\"},\n",
        "        {\"role\": \"user\", \"content\": \"2020년 월드시리즈에서는 누가 우승했어?\"}\n",
        "    ]\n",
        ")"
      ],
      "metadata": {
        "id": "5uLv3chEsr_N"
      },
      "execution_count": null,
      "outputs": []
    },
    {
      "cell_type": "code",
      "source": [
        "print(response['choices'][0]['message']['content'])"
      ],
      "metadata": {
        "colab": {
          "base_uri": "https://localhost:8080/"
        },
        "id": "ajin-SnHs3-y",
        "outputId": "ce27daa1-fd90-42c8-af1f-cee194150411"
      },
      "execution_count": null,
      "outputs": [
        {
          "output_type": "stream",
          "name": "stdout",
          "text": [
            "Who won the World Series in 2020?\n"
          ]
        }
      ]
    },
    {
      "cell_type": "markdown",
      "source": [
        "# 11.2.4. 이전 대화를 포함하여 답변하기"
      ],
      "metadata": {
        "id": "ghojb8dRtfef"
      }
    },
    {
      "cell_type": "code",
      "source": [
        "response = openai.ChatCompletion.create(\n",
        "  model=\"gpt-3.5-turbo\",\n",
        "  messages=[\n",
        "        {\"role\": \"user\", \"content\": \"2002년 월드컵에서 가장 화제가 되었던 나라는 어디야?\"},\n",
        "        {\"role\": \"assistant\", \"content\": \"바로 예상을 뚫고 4강 진출 신화를 일으킨 한국입니다.\"},\n",
        "        {\"role\": \"user\", \"content\": \"그 나라가 화제가 되었던 이유를 자세하게 설명해줘\"}\n",
        "    ]\n",
        ")"
      ],
      "metadata": {
        "id": "0Vf-Ys3qnD-O"
      },
      "execution_count": null,
      "outputs": []
    },
    {
      "cell_type": "code",
      "source": [
        "print(response['choices'][0]['message']['content'])"
      ],
      "metadata": {
        "colab": {
          "base_uri": "https://localhost:8080/"
        },
        "id": "j4JHXMERsNHm",
        "outputId": "71472111-b923-405b-95a3-935cc14f53e3"
      },
      "execution_count": null,
      "outputs": [
        {
          "output_type": "stream",
          "name": "stdout",
          "text": [
            "한국이 2002년 월드컵에서 화제가 된 이유는 크게 세 가지입니다.\n",
            "\n",
            "첫째, 성적적으로 뛰어난 성적을 거두었습니다. 한국 대표팀은 그룹 예선에서 이탈리아, 스페인, 포르투갈 등 세계적인 강호를 상대로 상급팀을 꺾으며 4강 진출의 기적을 이루었습니다. 이로써 전 세계적으로 한국 축구에 대한 인식이 올라갔습니다.\n",
            "\n",
            "둘째, 홈 경기장에서의 열기와 치열함이 대단히 인상적이었습니다. 한국에서 개최한 이번 월드컵에서 한국 국민들은 홈 경기장에서 대표팀을 응원하기 위해 엄청난 열기와 치열함을 보여주었습니다. 이로써 전 세계적으로 한국 축구를 응원하는 팬들의 인상이 좋아졌습니다.\n",
            "\n",
            "셋째, 비전통적인 승리 방식으로 사랑받았습니다. 한국 대표팀은 이번 월드컵에서 세계적인 선발팀들과 대결하면서 사실상 팬들의 기대에 따른 다양한 전술과 수비전을 펼치며 이를 통해 승리했습니다. 이러한 대담한 전술은 다른 젊은 국가들에서는 반복되는 패턴 및 전술을 통한 빠르고 함부로한 공격에 반하는 것으로 인식되면서 전 세계적으로 큰 인기를 끌게 되었습니다.\n"
          ]
        }
      ]
    }
  ]
}