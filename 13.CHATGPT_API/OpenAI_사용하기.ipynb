{
  "nbformat": 4,
  "nbformat_minor": 0,
  "metadata": {
    "colab": {
      "provenance": []
    },
    "kernelspec": {
      "name": "python3",
      "display_name": "Python 3"
    },
    "language_info": {
      "name": "python"
    }
  },
  "cells": [
    {
      "cell_type": "markdown",
      "source": [
        "# 11.2.1.셋팅하기"
      ],
      "metadata": {
        "id": "fwkBFIpUtlpr"
      }
    },
    {
      "cell_type": "markdown",
      "source": [
        "실습을 위해 몇 가지 셋팅 과정을 진행합니다. 우선 Colab에서 OpenAI ChatGPT API 실습을 진행하기 위해서 openai 라이브러리를 설치합니다. 이 과정은 Colab에 OpenAI에서 제공하는 기능들을 설치하는 과정입니다. 명령어 또는 코드를 실행할 때는 7.2.1장에서 안내한 바와 같이 코드 입력란에 작성 후에 `Shift + Enter` 키를 입력하면 됩니다.  \n",
        "\n",
        "openAI 라이브러리 설치를 위해 다음의 명령어를 작성 후 실행합니다."
      ],
      "metadata": {
        "id": "U3AsrV_Dt8Rh"
      }
    },
    {
      "cell_type": "code",
      "source": [
        "!pip install openai"
      ],
      "metadata": {
        "colab": {
          "base_uri": "https://localhost:8080/"
        },
        "id": "1d_S1-cYl8oI",
        "outputId": "aa23933f-4f9b-4e90-8cba-b5ab9919a449"
      },
      "execution_count": null,
      "outputs": [
        {
          "output_type": "stream",
          "name": "stdout",
          "text": [
            "Looking in indexes: https://pypi.org/simple, https://us-python.pkg.dev/colab-wheels/public/simple/\n",
            "Collecting openai\n",
            "  Downloading openai-0.27.0-py3-none-any.whl (70 kB)\n",
            "\u001b[2K     \u001b[90m━━━━━━━━━━━━━━━━━━━━━━━━━━━━━━━━━━━━━━━━\u001b[0m \u001b[32m70.1/70.1 KB\u001b[0m \u001b[31m1.0 MB/s\u001b[0m eta \u001b[36m0:00:00\u001b[0m\n",
            "\u001b[?25hRequirement already satisfied: tqdm in /usr/local/lib/python3.8/dist-packages (from openai) (4.64.1)\n",
            "Requirement already satisfied: aiohttp in /usr/local/lib/python3.8/dist-packages (from openai) (3.8.4)\n",
            "Requirement already satisfied: requests>=2.20 in /usr/local/lib/python3.8/dist-packages (from openai) (2.25.1)\n",
            "Requirement already satisfied: certifi>=2017.4.17 in /usr/local/lib/python3.8/dist-packages (from requests>=2.20->openai) (2022.12.7)\n",
            "Requirement already satisfied: idna<3,>=2.5 in /usr/local/lib/python3.8/dist-packages (from requests>=2.20->openai) (2.10)\n",
            "Requirement already satisfied: chardet<5,>=3.0.2 in /usr/local/lib/python3.8/dist-packages (from requests>=2.20->openai) (4.0.0)\n",
            "Requirement already satisfied: urllib3<1.27,>=1.21.1 in /usr/local/lib/python3.8/dist-packages (from requests>=2.20->openai) (1.26.14)\n",
            "Requirement already satisfied: frozenlist>=1.1.1 in /usr/local/lib/python3.8/dist-packages (from aiohttp->openai) (1.3.3)\n",
            "Requirement already satisfied: yarl<2.0,>=1.0 in /usr/local/lib/python3.8/dist-packages (from aiohttp->openai) (1.8.2)\n",
            "Requirement already satisfied: aiosignal>=1.1.2 in /usr/local/lib/python3.8/dist-packages (from aiohttp->openai) (1.3.1)\n",
            "Requirement already satisfied: async-timeout<5.0,>=4.0.0a3 in /usr/local/lib/python3.8/dist-packages (from aiohttp->openai) (4.0.2)\n",
            "Requirement already satisfied: attrs>=17.3.0 in /usr/local/lib/python3.8/dist-packages (from aiohttp->openai) (22.2.0)\n",
            "Requirement already satisfied: charset-normalizer<4.0,>=2.0 in /usr/local/lib/python3.8/dist-packages (from aiohttp->openai) (3.0.1)\n",
            "Requirement already satisfied: multidict<7.0,>=4.5 in /usr/local/lib/python3.8/dist-packages (from aiohttp->openai) (6.0.4)\n",
            "Installing collected packages: openai\n",
            "Successfully installed openai-0.27.0\n"
          ]
        }
      ]
    },
    {
      "cell_type": "markdown",
      "source": [
        "`Successfully installed openai`라는 문구를 확인하였다면 `import openai`라는 코드를 통해 라이브러리를 불러옵니다. 그 후 `openai.api_key`의 값으로 4.3.2장에서 얻은 key 값을 입력합니다."
      ],
      "metadata": {
        "id": "XON8jcGNuI2r"
      }
    },
    {
      "cell_type": "code",
      "source": [
        "import openai"
      ],
      "metadata": {
        "id": "kRmQ-79CoFqw"
      },
      "execution_count": null,
      "outputs": []
    },
    {
      "cell_type": "code",
      "source": [
        "openai.api_key = \"key 값\""
      ],
      "metadata": {
        "id": "D8-6-LEJnYWL"
      },
      "execution_count": null,
      "outputs": []
    },
    {
      "cell_type": "markdown",
      "source": [
        "# 11.2.2. 답변 얻기"
      ],
      "metadata": {
        "id": "O94YowemtkEu"
      }
    },
    {
      "cell_type": "markdown",
      "source": [
        "OpenAI ChatGPT API를 사용해봅시다. 사용하는 코드의 형식은 다음과 같습니다. model의 값으로 작성한 `gpt-3.5-turbo`은 OpenAI의 API 사용 시에 사용하는 ChatGPT의 다른 이름입니다. ChaGPT를 사용하기 위해서는 모델의 값으로  `gpt-3.5-turbo` 값을 사용해야 합니다."
      ],
      "metadata": {
        "id": "WWXAFKonuauO"
      }
    },
    {
      "cell_type": "markdown",
      "source": [
        "```\n",
        "response = openai.ChatCompletion.create(\n",
        "  model=\"gpt-3.5-turbo\",\n",
        "  messages=[\n",
        "        {\"role\": \"user\", \"content\": \"<작성하고 싶은 Prompt>\"}\n",
        "    ]\n",
        ")\n",
        "```"
      ],
      "metadata": {
        "id": "4oLPH8yRuvpk"
      }
    },
    {
      "cell_type": "markdown",
      "source": [
        "ChatGPT에게 작성할 프롬프트는 content의 값으로 입력하며, 이때 쌍따옴표를 `\"`를 이용하여 앞, 뒤를 감싸주어야 합니다."
      ],
      "metadata": {
        "id": "SVPHc1LZu67H"
      }
    },
    {
      "cell_type": "code",
      "source": [
        "response = openai.ChatCompletion.create(\n",
        "  model=\"gpt-3.5-turbo\",\n",
        "  messages=[\n",
        "        {\"role\": \"user\", \"content\": \"2020년 월드시리즈에서는 누가 우승했어?\"}\n",
        "    ]\n",
        ")"
      ],
      "metadata": {
        "id": "63axo4i-rFb5"
      },
      "execution_count": null,
      "outputs": []
    },
    {
      "cell_type": "markdown",
      "source": [
        "OpenAI의 공식 문서 안내에 따르면, ChatGPT의 답변은 `response['choices'][0]['message']['content']`라는 코드를 통해 얻을 수 있습니다. 해당 코드를 값을 출력하는 파이썬 코드인 print() 안에 넣어 ChatGPT의 값을 출력할 수 있습니다.\n"
      ],
      "metadata": {
        "id": "bfMpmz41vJdh"
      }
    },
    {
      "cell_type": "code",
      "source": [
        "print(response['choices'][0]['message']['content'])"
      ],
      "metadata": {
        "colab": {
          "base_uri": "https://localhost:8080/"
        },
        "id": "63hZjSXHrLkp",
        "outputId": "fe0be370-fc12-4b5d-bd26-d45b63490523"
      },
      "execution_count": null,
      "outputs": [
        {
          "output_type": "stream",
          "name": "stdout",
          "text": [
            "\n",
            "\n",
            "2020년 월드시리즈에서는 로스앤젤레스 더지스(Los Angeles Dodgers)가 우승했습니다.\n"
          ]
        }
      ]
    },
    {
      "cell_type": "markdown",
      "source": [
        "\"2020년 월드시리즈에서는 누가 우승했어?\"라는 질문에 ChatGPT는 `2020년 월드시리즈에서는 로스앤젤레스 더지스(Los Angeles Dodgers)가 우승했습니다.`라는 답변을 해줍니다."
      ],
      "metadata": {
        "id": "irJaCBXhv7zp"
      }
    },
    {
      "cell_type": "markdown",
      "source": [
        "# 11.2.3. 역할 부여해주기"
      ],
      "metadata": {
        "id": "kw7JiHbTtooI"
      }
    },
    {
      "cell_type": "markdown",
      "source": [
        "ChatGPT API를 통해 ChatGPT를 사용할 때는 ChatGPT에게 역할을 지시할 수 있습니다. 여기서 역할 지시란, ChatGPT가 앞으로 답변을 할 때 ChaGPT가 해당 역할로서 답변을 하라는 지시입니다. 앞으로 안내하는 역할 지시 방법은 항상 지시한 역할대로 동작한다는 보장은 없지만, 역할 지시문에 따라서 답변 자체의 방향성을 바꿔버리기도 합니다."
      ],
      "metadata": {
        "id": "wyObn3owxu-1"
      }
    },
    {
      "cell_type": "markdown",
      "source": [
        "역할 지시 방법은 기존의 코드에서 `messages=[ ]` 안에 `{\"role\": \"system\", \"content\": \"<ChatGPT가 수행할 역할>\"}` 를 추가로 작성하는 방식입니다. ChatGPT에게 친절하게 답변해주는 비서라는 역할을 부여해봅시다. 코드는 다음과 같습니다."
      ],
      "metadata": {
        "id": "qnpo9m1wyeD6"
      }
    },
    {
      "cell_type": "code",
      "source": [
        "response = openai.ChatCompletion.create(\n",
        "  model=\"gpt-3.5-turbo\",\n",
        "  messages=[\n",
        "      {\"role\": \"system\", \"content\": \"너는 친절하게 답변해주는 비서야\"},\n",
        "        {\"role\": \"user\", \"content\": \"2020년 월드시리즈에서는 누가 우승했어?\"}\n",
        "    ]\n",
        ")"
      ],
      "metadata": {
        "id": "CZ8TM-ewqoD5"
      },
      "execution_count": null,
      "outputs": []
    },
    {
      "cell_type": "code",
      "source": [
        "print(response['choices'][0]['message']['content'])"
      ],
      "metadata": {
        "colab": {
          "base_uri": "https://localhost:8080/"
        },
        "id": "DSJ4vmj4qxTV",
        "outputId": "dffc3847-b8e4-41e4-dc05-0209e9b53429"
      },
      "execution_count": null,
      "outputs": [
        {
          "output_type": "stream",
          "name": "stdout",
          "text": [
            "2020년 월드시리즈에서는 로스앤젤레스 더지스(Los Angeles Dodgers)가 탬파베이 레이스(Tampa Bay Rays)를 꺾고 우승했습니다.\n"
          ]
        }
      ]
    },
    {
      "cell_type": "markdown",
      "source": [
        "동일하게 로스앤젤레스 더지스가 우승했다는 답변을 합니다. 이전과는 조금 더 상세한 답변이 작성되었지만, ChatGPT는 원래도 동일한 질문에 다른 답변을 하는 챗봇이므로 이것만으로는 역할 지시문이 동작하였는지는 알 수 없습니다. 이번에는 역할 지시문에 한국어로 질문해도 영어로 답변하는 챗봇이라는 지시문을 넣어봅시다. 참고로 역할 지시문의 경우, 한국어가 아니라 영어로 지시문을 작성해야 더 잘 동작하는 경향이 있습니다. 그래서 이번에는 영어로 지시문을 작성합니다."
      ],
      "metadata": {
        "id": "VXYzxzipzJog"
      }
    },
    {
      "cell_type": "code",
      "source": [
        "response = openai.ChatCompletion.create(\n",
        "  model=\"gpt-3.5-turbo\",\n",
        "  messages=[\n",
        "      {\"role\": \"system\", \"content\": \"You are a chatbot that answers questions in English even in Korean.\"},\n",
        "        {\"role\": \"user\", \"content\": \"2020년 월드시리즈에서는 누가 우승했어?\"}\n",
        "    ]\n",
        ")"
      ],
      "metadata": {
        "id": "EAoknRM5rQyZ"
      },
      "execution_count": null,
      "outputs": []
    },
    {
      "cell_type": "code",
      "source": [
        "print(response['choices'][0]['message']['content'])"
      ],
      "metadata": {
        "colab": {
          "base_uri": "https://localhost:8080/"
        },
        "id": "0UTvVlbcrW0O",
        "outputId": "79185b32-b009-4fe6-9be6-e3339ddb8631"
      },
      "execution_count": null,
      "outputs": [
        {
          "output_type": "stream",
          "name": "stdout",
          "text": [
            "In 2020 World Series, the Los Angeles Dodgers won the championship.\n"
          ]
        }
      ]
    },
    {
      "cell_type": "markdown",
      "source": [
        "한국어로 질문을 했음에도 영어로 답변을 하는 모습을 확인할 수 있습니다. 이번에는 질문을 해도 답변을 거부하고 사과하는 표현을 하는 챗봇이라는 지시문을 넣어봅시다."
      ],
      "metadata": {
        "id": "30G34pCizasm"
      }
    },
    {
      "cell_type": "code",
      "source": [
        "response = openai.ChatCompletion.create(\n",
        "  model=\"gpt-3.5-turbo\",\n",
        "  messages=[\n",
        "      {\"role\": \"system\", \"content\": \"You're a chatbot that refuses to answer and says sorry when users ask questions.\"},\n",
        "        {\"role\": \"user\", \"content\": \"2020년 월드시리즈에서는 누가 우승했어?\"}\n",
        "    ]\n",
        ")"
      ],
      "metadata": {
        "id": "EcRgizqXsKPX"
      },
      "execution_count": null,
      "outputs": []
    },
    {
      "cell_type": "code",
      "source": [
        "print(response['choices'][0]['message']['content'])"
      ],
      "metadata": {
        "colab": {
          "base_uri": "https://localhost:8080/"
        },
        "id": "UptsPOW6sPd4",
        "outputId": "826634e7-5bf7-4fd6-f24e-871395ddb8df"
      },
      "execution_count": null,
      "outputs": [
        {
          "output_type": "stream",
          "name": "stdout",
          "text": [
            "I'm sorry, but I cannot answer that question as my programming prohibits me from providing information.\n"
          ]
        }
      ]
    },
    {
      "cell_type": "markdown",
      "source": [
        "이번에는 ChatGPT는 질문에 대한 답변을 하는 것이 아니라 답변을 거부하며 사과하는 모습을 보입니다. 이는 역할 지시문이 ChatGPT의 행동에 관여하고 있음을 보여줍니다. 이번에는 질문에 대한 답변을 하는 것이 아니라 번역을 하는 챗봇이라는 지시문을 주고, 답변을 확인해봅시다."
      ],
      "metadata": {
        "id": "XkjISpj9ztYF"
      }
    },
    {
      "cell_type": "code",
      "source": [
        "response = openai.ChatCompletion.create(\n",
        "  model=\"gpt-3.5-turbo\",\n",
        "  messages=[\n",
        "      {\"role\": \"system\", \"content\": \"You are a translator who translates user input.\"},\n",
        "        {\"role\": \"user\", \"content\": \"2020년 월드시리즈에서는 누가 우승했어?\"}\n",
        "    ]\n",
        ")"
      ],
      "metadata": {
        "id": "5uLv3chEsr_N"
      },
      "execution_count": null,
      "outputs": []
    },
    {
      "cell_type": "code",
      "source": [
        "print(response['choices'][0]['message']['content'])"
      ],
      "metadata": {
        "colab": {
          "base_uri": "https://localhost:8080/"
        },
        "id": "ajin-SnHs3-y",
        "outputId": "ce27daa1-fd90-42c8-af1f-cee194150411"
      },
      "execution_count": null,
      "outputs": [
        {
          "output_type": "stream",
          "name": "stdout",
          "text": [
            "Who won the World Series in 2020?\n"
          ]
        }
      ]
    },
    {
      "cell_type": "markdown",
      "source": [
        "ChatGPT는 사용자의 질문에 대해서 대답을 하는 것이 아니라 영어로 번역하여 답변합니다."
      ],
      "metadata": {
        "id": "v-jMvkPa0EnF"
      }
    },
    {
      "cell_type": "markdown",
      "source": [
        "# 11.2.4. 이전 대화를 포함하여 답변하기"
      ],
      "metadata": {
        "id": "ghojb8dRtfef"
      }
    },
    {
      "cell_type": "markdown",
      "source": [
        "ChatGPT는 1.6장에서 언급한 바와 같이 답변을 할 때, 이전 질문과 답변을 모두 고려하여 답변을 하는 특징이 있습니다. ChatGPT API를 사용하면, ChatGPT에게 답변을 요청할 때, ChatGPT `앞서 네가 이런 답변을 한 상태였다` 라는 정보를 주는 것이 가능합니다. 이것은 사용자가 가정하는 것이지만 ChatGPT는 마치 과거에 ChatGPT 자신이 답변한 것으로 가정하고, 추가 답변을 합니다.\n",
        "\n",
        "작성 방법은 messages=[ ] 안에 `{\"role\": \"user\", \"content\": \"<사용자의 이전 Prompt>\"}`를 작성한 후에 `{\"role\": \"assistant\", \"content\": \"<ChatGPT의 이전 답변>\"}`을 추가로 작성하고, 다시 `{\"role\": \"user\", \"content\": \"<ChatGPT 이전 답변 이후의 사용자의 Prompt>\"}`를 번갈아 작성하는 것입니다. 실제 코드를 통해 확인해봅시다.\n",
        "\n",
        "아래의 코드는 사용자가 ChatGPT에게 `2002년 월드컵에서 가장 화제가 되었던 나라는 어디야?`라고 질문 후, ChatGPT가 `바로 예상을 뚫고 4강 진출 신화를 일으킨 한국입니다.`라고 답변을 하였다고 가정하고, 사용자가 다시 `그 나라가 화제가 되었던 이유를 자세하게 설명해줘`를 질문한 상태를 가정하고, ChatGPT의 답변을 얻습니다."
      ],
      "metadata": {
        "id": "P1lNa3hm0WIB"
      }
    },
    {
      "cell_type": "code",
      "source": [
        "response = openai.ChatCompletion.create(\n",
        "  model=\"gpt-3.5-turbo\",\n",
        "  messages=[\n",
        "        {\"role\": \"user\", \"content\": \"2002년 월드컵에서 가장 화제가 되었던 나라는 어디야?\"},\n",
        "        {\"role\": \"assistant\", \"content\": \"바로 예상을 뚫고 4강 진출 신화를 일으킨 한국입니다.\"},\n",
        "        {\"role\": \"user\", \"content\": \"그 나라가 화제가 되었던 이유를 자세하게 설명해줘\"}\n",
        "    ]\n",
        ")"
      ],
      "metadata": {
        "id": "0Vf-Ys3qnD-O"
      },
      "execution_count": null,
      "outputs": []
    },
    {
      "cell_type": "code",
      "source": [
        "print(response['choices'][0]['message']['content'])"
      ],
      "metadata": {
        "colab": {
          "base_uri": "https://localhost:8080/"
        },
        "id": "j4JHXMERsNHm",
        "outputId": "71472111-b923-405b-95a3-935cc14f53e3"
      },
      "execution_count": null,
      "outputs": [
        {
          "output_type": "stream",
          "name": "stdout",
          "text": [
            "한국이 2002년 월드컵에서 화제가 된 이유는 크게 세 가지입니다.\n",
            "\n",
            "첫째, 성적적으로 뛰어난 성적을 거두었습니다. 한국 대표팀은 그룹 예선에서 이탈리아, 스페인, 포르투갈 등 세계적인 강호를 상대로 상급팀을 꺾으며 4강 진출의 기적을 이루었습니다. 이로써 전 세계적으로 한국 축구에 대한 인식이 올라갔습니다.\n",
            "\n",
            "둘째, 홈 경기장에서의 열기와 치열함이 대단히 인상적이었습니다. 한국에서 개최한 이번 월드컵에서 한국 국민들은 홈 경기장에서 대표팀을 응원하기 위해 엄청난 열기와 치열함을 보여주었습니다. 이로써 전 세계적으로 한국 축구를 응원하는 팬들의 인상이 좋아졌습니다.\n",
            "\n",
            "셋째, 비전통적인 승리 방식으로 사랑받았습니다. 한국 대표팀은 이번 월드컵에서 세계적인 선발팀들과 대결하면서 사실상 팬들의 기대에 따른 다양한 전술과 수비전을 펼치며 이를 통해 승리했습니다. 이러한 대담한 전술은 다른 젊은 국가들에서는 반복되는 패턴 및 전술을 통한 빠르고 함부로한 공격에 반하는 것으로 인식되면서 전 세계적으로 큰 인기를 끌게 되었습니다.\n"
          ]
        }
      ]
    },
    {
      "cell_type": "code",
      "source": [
        "response"
      ],
      "metadata": {
        "colab": {
          "base_uri": "https://localhost:8080/"
        },
        "id": "UC570_mfpUFC",
        "outputId": "c5ec0d6b-9403-4c44-caa3-c362396744fe"
      },
      "execution_count": null,
      "outputs": [
        {
          "output_type": "execute_result",
          "data": {
            "text/plain": [
              "<OpenAIObject chat.completion id=chatcmpl-6peLth5TP87yGOEIXuivXyuEQcBet at 0x7f1d01c2aef0> JSON: {\n",
              "  \"choices\": [\n",
              "    {\n",
              "      \"finish_reason\": \"stop\",\n",
              "      \"index\": 0,\n",
              "      \"message\": {\n",
              "        \"content\": \"\\ud55c\\uad6d\\uc774 2002\\ub144 \\uc6d4\\ub4dc\\ucef5\\uc5d0\\uc11c \\ud654\\uc81c\\uac00 \\ub41c \\uc774\\uc720\\ub294 \\ud06c\\uac8c \\uc138 \\uac00\\uc9c0\\uc785\\ub2c8\\ub2e4.\\n\\n\\uccab\\uc9f8, \\uc131\\uc801\\uc801\\uc73c\\ub85c \\ub6f0\\uc5b4\\ub09c \\uc131\\uc801\\uc744 \\uac70\\ub450\\uc5c8\\uc2b5\\ub2c8\\ub2e4. \\ud55c\\uad6d \\ub300\\ud45c\\ud300\\uc740 \\uadf8\\ub8f9 \\uc608\\uc120\\uc5d0\\uc11c \\uc774\\ud0c8\\ub9ac\\uc544, \\uc2a4\\ud398\\uc778, \\ud3ec\\ub974\\ud22c\\uac08 \\ub4f1 \\uc138\\uacc4\\uc801\\uc778 \\uac15\\ud638\\ub97c \\uc0c1\\ub300\\ub85c \\uc0c1\\uae09\\ud300\\uc744 \\uaebe\\uc73c\\uba70 4\\uac15 \\uc9c4\\ucd9c\\uc758 \\uae30\\uc801\\uc744 \\uc774\\ub8e8\\uc5c8\\uc2b5\\ub2c8\\ub2e4. \\uc774\\ub85c\\uc368 \\uc804 \\uc138\\uacc4\\uc801\\uc73c\\ub85c \\ud55c\\uad6d \\ucd95\\uad6c\\uc5d0 \\ub300\\ud55c \\uc778\\uc2dd\\uc774 \\uc62c\\ub77c\\uac14\\uc2b5\\ub2c8\\ub2e4.\\n\\n\\ub458\\uc9f8, \\ud648 \\uacbd\\uae30\\uc7a5\\uc5d0\\uc11c\\uc758 \\uc5f4\\uae30\\uc640 \\uce58\\uc5f4\\ud568\\uc774 \\ub300\\ub2e8\\ud788 \\uc778\\uc0c1\\uc801\\uc774\\uc5c8\\uc2b5\\ub2c8\\ub2e4. \\ud55c\\uad6d\\uc5d0\\uc11c \\uac1c\\ucd5c\\ud55c \\uc774\\ubc88 \\uc6d4\\ub4dc\\ucef5\\uc5d0\\uc11c \\ud55c\\uad6d \\uad6d\\ubbfc\\ub4e4\\uc740 \\ud648 \\uacbd\\uae30\\uc7a5\\uc5d0\\uc11c \\ub300\\ud45c\\ud300\\uc744 \\uc751\\uc6d0\\ud558\\uae30 \\uc704\\ud574 \\uc5c4\\uccad\\ub09c \\uc5f4\\uae30\\uc640 \\uce58\\uc5f4\\ud568\\uc744 \\ubcf4\\uc5ec\\uc8fc\\uc5c8\\uc2b5\\ub2c8\\ub2e4. \\uc774\\ub85c\\uc368 \\uc804 \\uc138\\uacc4\\uc801\\uc73c\\ub85c \\ud55c\\uad6d \\ucd95\\uad6c\\ub97c \\uc751\\uc6d0\\ud558\\ub294 \\ud32c\\ub4e4\\uc758 \\uc778\\uc0c1\\uc774 \\uc88b\\uc544\\uc84c\\uc2b5\\ub2c8\\ub2e4.\\n\\n\\uc14b\\uc9f8, \\ube44\\uc804\\ud1b5\\uc801\\uc778 \\uc2b9\\ub9ac \\ubc29\\uc2dd\\uc73c\\ub85c \\uc0ac\\ub791\\ubc1b\\uc558\\uc2b5\\ub2c8\\ub2e4. \\ud55c\\uad6d \\ub300\\ud45c\\ud300\\uc740 \\uc774\\ubc88 \\uc6d4\\ub4dc\\ucef5\\uc5d0\\uc11c \\uc138\\uacc4\\uc801\\uc778 \\uc120\\ubc1c\\ud300\\ub4e4\\uacfc \\ub300\\uacb0\\ud558\\uba74\\uc11c \\uc0ac\\uc2e4\\uc0c1 \\ud32c\\ub4e4\\uc758 \\uae30\\ub300\\uc5d0 \\ub530\\ub978 \\ub2e4\\uc591\\ud55c \\uc804\\uc220\\uacfc \\uc218\\ube44\\uc804\\uc744 \\ud3bc\\uce58\\uba70 \\uc774\\ub97c \\ud1b5\\ud574 \\uc2b9\\ub9ac\\ud588\\uc2b5\\ub2c8\\ub2e4. \\uc774\\ub7ec\\ud55c \\ub300\\ub2f4\\ud55c \\uc804\\uc220\\uc740 \\ub2e4\\ub978 \\uc80a\\uc740 \\uad6d\\uac00\\ub4e4\\uc5d0\\uc11c\\ub294 \\ubc18\\ubcf5\\ub418\\ub294 \\ud328\\ud134 \\ubc0f \\uc804\\uc220\\uc744 \\ud1b5\\ud55c \\ube60\\ub974\\uace0 \\ud568\\ubd80\\ub85c\\ud55c \\uacf5\\uaca9\\uc5d0 \\ubc18\\ud558\\ub294 \\uac83\\uc73c\\ub85c \\uc778\\uc2dd\\ub418\\uba74\\uc11c \\uc804 \\uc138\\uacc4\\uc801\\uc73c\\ub85c \\ud070 \\uc778\\uae30\\ub97c \\ub04c\\uac8c \\ub418\\uc5c8\\uc2b5\\ub2c8\\ub2e4.\",\n",
              "        \"role\": \"assistant\"\n",
              "      }\n",
              "    }\n",
              "  ],\n",
              "  \"created\": 1677767861,\n",
              "  \"id\": \"chatcmpl-6peLth5TP87yGOEIXuivXyuEQcBet\",\n",
              "  \"model\": \"gpt-3.5-turbo-0301\",\n",
              "  \"object\": \"chat.completion\",\n",
              "  \"usage\": {\n",
              "    \"completion_tokens\": 503,\n",
              "    \"prompt_tokens\": 103,\n",
              "    \"total_tokens\": 606\n",
              "  }\n",
              "}"
            ]
          },
          "metadata": {},
          "execution_count": 66
        }
      ]
    }
  ]
}